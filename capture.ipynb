{
 "cells": [
  {
   "cell_type": "code",
   "execution_count": null,
   "id": "f83e99d0",
   "metadata": {},
   "outputs": [],
   "source": [
    "import cv2\n",
    "import mediapipe as mp\n",
    "import pyautogui\n",
    "from pynput.mouse import Button, Controller\n",
    "import time\n",
    "\n",
    "import util"
   ]
  },
  {
   "cell_type": "code",
   "execution_count": null,
   "id": "565efffa",
   "metadata": {},
   "outputs": [],
   "source": [
    "mouse = Controller()\n",
    "\n",
    "width, hegiht = pyautogui.size()\n",
    "sensitivity = 1.5\n",
    "\n",
    "mphand = mp.solutions.hands\n",
    "hand = mphand.Hands(\n",
    "    static_image_mode = False,\n",
    "    model_complexity = 1,\n",
    "    min_detection_confidence = 0.7,\n",
    "    min_tracking_confidence = 0.7,\n",
    "    max_num_hands = 1\n",
    ")"
   ]
  },
  {
   "cell_type": "code",
   "execution_count": null,
   "id": "41c87b48",
   "metadata": {},
   "outputs": [],
   "source": [
    "def find_finger_tip(processed):\n",
    "    if processed.multi_hand_landmarks:\n",
    "        hand_landmarks = processed.multi_hand_landmarks[0]\n",
    "        \n",
    "        return hand_landmarks.landmark[mphand.HandLandmark.INDEX_FINGER_TIP]\n",
    "    \n",
    "    return None"
   ]
  },
  {
   "cell_type": "code",
   "execution_count": null,
   "id": "d68bbee7",
   "metadata": {},
   "outputs": [],
   "source": [
    "def move_cursor(index_finger_tip):\n",
    "    if index_finger_tip is not None:\n",
    "        x = int(index_finger_tip.x * width * sensitivity)\n",
    "        y = int(index_finger_tip.y * hegiht * sensitivity)\n",
    "        pyautogui.moveTo(x, y)"
   ]
  },
  {
   "cell_type": "code",
   "execution_count": null,
   "id": "d9a3eb69",
   "metadata": {},
   "outputs": [],
   "source": [
    "def is_left_click(landmarks_list, thumb_index_dist):\n",
    "    return (\n",
    "        thumb_index_dist > 50 and \n",
    "        util.angle(landmarks_list[5], landmarks_list[6], landmarks_list[8]) < 50 and \n",
    "        util.angle(landmarks_list[9], landmarks_list[10], landmarks_list[12]) > 90\n",
    "            )\n",
    "\n",
    "def is_right_click(landmarks_list, thumb_index_dist):\n",
    "    return (\n",
    "        thumb_index_dist > 50 and \n",
    "        util.angle(landmarks_list[5], landmarks_list[6], landmarks_list[8]) > 90 and \n",
    "        util.angle(landmarks_list[9], landmarks_list[10], landmarks_list[12]) < 50\n",
    "            )\n",
    "            \n",
    "def is_double_click(landmarks_list, thumb_index_dist):\n",
    "    return(\n",
    "        thumb_index_dist > 50 \n",
    "        and util.angle(landmarks_list[5], landmarks_list[6], landmarks_list[8]) < 50\n",
    "        and util.angle(landmarks_list[9], landmarks_list[10], landmarks_list[12]) < 50\n",
    "           )"
   ]
  },
  {
   "cell_type": "code",
   "execution_count": null,
   "id": "dc26c21e",
   "metadata": {},
   "outputs": [],
   "source": [
    "def detect_gestures(frame, landmarks_list, processed):\n",
    "    if len(landmarks_list) >= 21:\n",
    "        index_finger_tip = find_finger_tip(processed)\n",
    "        thumb_index_dist = util.distance((landmarks_list[4], landmarks_list[5]))\n",
    "\n",
    "        if thumb_index_dist < 50 and util.angle(landmarks_list[5], landmarks_list[6], landmarks_list[8]) > 90:\n",
    "            move_cursor(index_finger_tip)\n",
    "            cv2.putText(frame, \"Move Cursor\", (50, 100), cv2.FONT_HERSHEY_SIMPLEX, 3, (0, 0, 0), 7, cv2.LINE_AA)\n",
    "            cv2.putText(frame, \"Move Cursor\", (50, 100), cv2.FONT_HERSHEY_SIMPLEX, 3, (255, 255, 255), 3, cv2.LINE_AA)\n",
    "\n",
    "        elif is_left_click(landmarks_list, thumb_index_dist):\n",
    "            mouse.press(Button.left)\n",
    "            mouse.release(Button.left)\n",
    "            time.sleep(0.1)\n",
    "            cv2.putText(frame, \"Left Click\", (50, 100), cv2.FONT_HERSHEY_SIMPLEX, 3, (0, 0, 0), 7, cv2.LINE_AA)\n",
    "            cv2.putText(frame, \"Left Click\", (50, 100), cv2.FONT_HERSHEY_SIMPLEX, 3, (255, 255, 255), 3, cv2.LINE_AA)\n",
    "\n",
    "        elif is_right_click(landmarks_list, thumb_index_dist):\n",
    "            mouse.press(Button.right)\n",
    "            mouse.release(Button.right)\n",
    "            time.sleep(0.1)\n",
    "            cv2.putText(frame, \"Right Click\", (50, 100), cv2.FONT_HERSHEY_SIMPLEX, 3, (0, 0, 0), 7, cv2.LINE_AA)\n",
    "            cv2.putText(frame, \"Right Click\", (50, 100), cv2.FONT_HERSHEY_SIMPLEX, 3, (255, 255, 255), 3, cv2.LINE_AA)\n",
    "\n",
    "        elif is_double_click(landmarks_list, thumb_index_dist):\n",
    "            pyautogui.doubleClick()\n",
    "            cv2.putText(frame, \"Double Click\", (50, 100), cv2.FONT_HERSHEY_SIMPLEX, 3, (0, 0, 0), 7, cv2.LINE_AA)\n",
    "            cv2.putText(frame, \"Doubel Click\", (50, 100), cv2.FONT_HERSHEY_SIMPLEX, 3, (255, 255, 255), 3, cv2.LINE_AA)    "
   ]
  },
  {
   "cell_type": "code",
   "execution_count": null,
   "id": "3e76894d",
   "metadata": {},
   "outputs": [],
   "source": [
    "cap = cv2.VideoCapture(0)\n",
    "draw = mp.solutions.drawing_utils\n",
    "\n",
    "try:\n",
    "    while cap.isOpened():\n",
    "        ret, frame = cap.read()\n",
    "\n",
    "        if not ret:\n",
    "            break\n",
    "\n",
    "        frame = cv2.flip(frame, 1)\n",
    "        frameRGB = cv2.cvtColor(frame, cv2.COLOR_BGR2RGB)\n",
    "        processed = hand.process(frameRGB)\n",
    "\n",
    "        landmarks_list = []\n",
    "\n",
    "        if processed.multi_hand_landmarks:\n",
    "            hand_landmarks = processed.multi_hand_landmarks[0]\n",
    "            draw.draw_landmarks(frame, hand_landmarks, mphand.HAND_CONNECTIONS)\n",
    "\n",
    "            for landmark in hand_landmarks.landmark:\n",
    "                landmarks_list.append((landmark.x, landmark.y))\n",
    "\n",
    "        detect_gestures(frame, landmarks_list, processed)\n",
    "\n",
    "\n",
    "        print(landmarks_list)\n",
    "\n",
    "\n",
    "        cv2.imshow('Frame', frame)\n",
    "\n",
    "        if cv2.waitKey(1) & 0xFF == ord('q'):\n",
    "            break \n",
    "\n",
    "finally:\n",
    "    cap.release()\n",
    "    cv2.destroyAllWindows()\n",
    "    cv2.waitKey(1)"
   ]
  }
 ],
 "metadata": {
  "kernelspec": {
   "display_name": ".venv (3.9.6)",
   "language": "python",
   "name": "python3"
  },
  "language_info": {
   "codemirror_mode": {
    "name": "ipython",
    "version": 3
   },
   "file_extension": ".py",
   "mimetype": "text/x-python",
   "name": "python",
   "nbconvert_exporter": "python",
   "pygments_lexer": "ipython3",
   "version": "3.9.6"
  }
 },
 "nbformat": 4,
 "nbformat_minor": 5
}
